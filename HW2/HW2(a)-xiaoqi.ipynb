{
 "cells": [
  {
   "cell_type": "code",
   "execution_count": 213,
   "id": "807281b3",
   "metadata": {},
   "outputs": [],
   "source": [
    "#a\n",
    "import gurobi\n",
    "from itertools import product\n",
    "from math import sqrt\n",
    "\n",
    "import gurobipy as gp\n",
    "from gurobipy import GRB\n",
    "\n",
    "# Parameters\n",
    "costs_ij = [(220,190,235),(140,165,180),(160,190,225)]\n",
    "t_i = [160,160,160]\n",
    "d_j = [145,135,150]\n"
   ]
  },
  {
   "cell_type": "code",
   "execution_count": 214,
   "id": "11f0bb9b",
   "metadata": {},
   "outputs": [],
   "source": [
    "# Compute key parameters of MIP model formulation\n",
    "\n",
    "n = len(t_i)\n",
    "m = len(d_j)"
   ]
  },
  {
   "cell_type": "code",
   "execution_count": 215,
   "id": "8364632e",
   "metadata": {},
   "outputs": [
    {
     "name": "stdout",
     "output_type": "stream",
     "text": [
      "Gurobi Optimizer version 10.0.1 build v10.0.1rc0 (mac64[x86])\n",
      "\n",
      "CPU model: Intel(R) Core(TM) i5-3210M CPU @ 2.50GHz\n",
      "Thread count: 2 physical cores, 4 logical processors, using up to 4 threads\n",
      "\n",
      "Optimize a model with 6 rows, 9 columns and 18 nonzeros\n",
      "Model fingerprint: 0xe806e85c\n",
      "Coefficient statistics:\n",
      "  Matrix range     [1e+00, 1e+00]\n",
      "  Objective range  [1e+02, 2e+02]\n",
      "  Bounds range     [0e+00, 0e+00]\n",
      "  RHS range        [1e+02, 2e+02]\n",
      "Presolve time: 0.05s\n",
      "Presolved: 6 rows, 9 columns, 18 nonzeros\n",
      "\n",
      "Iteration    Objective       Primal Inf.    Dual Inf.      Time\n",
      "       0    0.0000000e+00   4.300000e+02   0.000000e+00      0s\n",
      "       5    7.5600000e+04   0.000000e+00   0.000000e+00      0s\n",
      "\n",
      "Solved in 5 iterations and 0.09 seconds (0.00 work units)\n",
      "Optimal objective  7.560000000e+04\n",
      "\n",
      "    Variable            X \n",
      "-------------------------\n",
      "      x[0,1]          125 \n",
      "      x[1,1]           10 \n",
      "      x[1,2]          150 \n",
      "      x[2,0]          145 \n"
     ]
    }
   ],
   "source": [
    "# MIP  model formulation\n",
    "\n",
    "model = gp.Model('Modeling example 1')\n",
    "\n",
    "x = model.addVars(n, m, name = \"x\")\n",
    "\n",
    "model.addConstrs(gp.quicksum(x[i,j] for j in range(m)) <= t_i[i] for i in range(n))\n",
    "model.addConstrs(gp.quicksum(x[i,j] for i in range(n)) >= d_j[j] for j in range(m))\n",
    "\n",
    "model.setObjective(gp.quicksum(costs_ij[i][j]* x[i, j] for i in range(n) for j in range(m)),GRB.MINIMIZE)\n",
    "model.optimize()\n",
    "model.printAttr(\"X\")\n"
   ]
  }
 ],
 "metadata": {
  "kernelspec": {
   "display_name": "Python 3 (ipykernel)",
   "language": "python",
   "name": "python3"
  },
  "language_info": {
   "codemirror_mode": {
    "name": "ipython",
    "version": 3
   },
   "file_extension": ".py",
   "mimetype": "text/x-python",
   "name": "python",
   "nbconvert_exporter": "python",
   "pygments_lexer": "ipython3",
   "version": "3.9.13"
  }
 },
 "nbformat": 4,
 "nbformat_minor": 5
}
