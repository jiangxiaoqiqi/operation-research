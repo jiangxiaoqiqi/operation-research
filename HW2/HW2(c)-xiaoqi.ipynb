{
 "cells": [
  {
   "cell_type": "code",
   "execution_count": 51,
   "id": "807281b3",
   "metadata": {},
   "outputs": [],
   "source": [
    "#c\n",
    "import gurobi\n",
    "from itertools import product\n",
    "from math import sqrt\n",
    "\n",
    "import gurobipy as gp\n",
    "from gurobipy import GRB\n",
    "\n",
    "# Parameters\n",
    "costs_ij = [(220,190,235),(140,165,180),(160,190,225)]\n",
    "t_i = [160,160,160]\n",
    "d_j = [145,135,150]"
   ]
  },
  {
   "cell_type": "code",
   "execution_count": 52,
   "id": "11f0bb9b",
   "metadata": {},
   "outputs": [],
   "source": [
    "# Compute key parameters of MIP model formulation\n",
    "\n",
    "n = len(t_i)\n",
    "m = len(d_j)"
   ]
  },
  {
   "cell_type": "code",
   "execution_count": 53,
   "id": "8364632e",
   "metadata": {},
   "outputs": [
    {
     "name": "stdout",
     "output_type": "stream",
     "text": [
      "Gurobi Optimizer version 10.0.1 build v10.0.1rc0 (mac64[x86])\n",
      "\n",
      "CPU model: Intel(R) Core(TM) i5-3210M CPU @ 2.50GHz\n",
      "Thread count: 2 physical cores, 4 logical processors, using up to 4 threads\n",
      "\n",
      "Optimize a model with 18 rows, 18 columns and 42 nonzeros\n",
      "Model fingerprint: 0x5922e65b\n",
      "Variable types: 9 continuous, 9 integer (9 binary)\n",
      "Coefficient statistics:\n",
      "  Matrix range     [1e+00, 2e+02]\n",
      "  Objective range  [1e+02, 2e+02]\n",
      "  Bounds range     [1e+00, 1e+00]\n",
      "  RHS range        [1e+00, 2e+02]\n",
      "Presolve removed 6 rows and 6 columns\n",
      "Presolve time: 0.00s\n",
      "Presolved: 12 rows, 12 columns, 30 nonzeros\n",
      "Variable types: 9 continuous, 3 integer (3 binary)\n",
      "\n",
      "Root relaxation: objective 7.560000e+04, 7 iterations, 0.00 seconds (0.00 work units)\n",
      "\n",
      "    Nodes    |    Current Node    |     Objective Bounds      |     Work\n",
      " Expl Unexpl |  Obj  Depth IntInf | Incumbent    BestBd   Gap | It/Node Time\n",
      "\n",
      "     0     0 75600.0000    0    1          - 75600.0000      -     -    0s\n",
      "H    0     0                    75850.000000 75600.0000  0.33%     -    0s\n",
      "*    0     0               0    75650.000000 75650.0000  0.00%     -    0s\n",
      "\n",
      "Explored 1 nodes (9 simplex iterations) in 0.12 seconds (0.00 work units)\n",
      "Thread count was 4 (of 4 available processors)\n",
      "\n",
      "Solution count 2: 75650 75850 \n",
      "\n",
      "Optimal solution found (tolerance 1.00e-04)\n",
      "Best objective 7.565000000000e+04, best bound 7.565000000000e+04, gap 0.0000%\n",
      "\n",
      "    Variable            X \n",
      "-------------------------\n",
      "      x[0,1]          110 \n",
      "      x[1,0]           10 \n",
      "      x[1,2]          150 \n",
      "      x[2,0]          135 \n",
      "      x[2,1]           25 \n",
      "      y[0,1]            1 \n",
      "      y[1,0]            1 \n",
      "      y[1,2]            1 \n",
      "      y[2,0]            1 \n",
      "      y[2,1]            1 \n",
      "      y[2,2]            1 \n"
     ]
    }
   ],
   "source": [
    "# MIP  model formulation\n",
    "\n",
    "model = gp.Model('Modeling example 1')\n",
    "\n",
    "x = model.addVars(n, m, name = \"x\")\n",
    "y = model.addVars(n, m, vtype = GRB.BINARY, name = \"y\")\n",
    "\n",
    "model.addConstrs(y[0,j]+y[1,j] <= 1 for j in range(m))\n",
    "model.addConstrs(gp.quicksum(x[i,j] for j in range(m)) <= t_i[i] for i in range(n))\n",
    "model.addConstrs(gp.quicksum(x[i,j] for i in range(n)) >= d_j[j] for j in range(m))\n",
    "model.addConstrs(x[i,j] <= max(t_i)*y[i,j] for i in range(n) for j in range(m))\n",
    "\n",
    "model.setObjective(gp.quicksum(costs_ij[i][j]* x[i, j] for i in range(n) for j in range(m)),GRB.MINIMIZE)\n",
    "model.optimize()\n",
    "\n",
    "model.printAttr(\"X\")\n"
   ]
  }
 ],
 "metadata": {
  "kernelspec": {
   "display_name": "Python 3 (ipykernel)",
   "language": "python",
   "name": "python3"
  },
  "language_info": {
   "codemirror_mode": {
    "name": "ipython",
    "version": 3
   },
   "file_extension": ".py",
   "mimetype": "text/x-python",
   "name": "python",
   "nbconvert_exporter": "python",
   "pygments_lexer": "ipython3",
   "version": "3.9.13"
  }
 },
 "nbformat": 4,
 "nbformat_minor": 5
}
