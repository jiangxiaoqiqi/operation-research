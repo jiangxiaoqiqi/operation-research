{
 "cells": [
  {
   "cell_type": "code",
   "execution_count": 4,
   "id": "807281b3",
   "metadata": {},
   "outputs": [],
   "source": [
    "#d\n",
    "import gurobi\n",
    "from itertools import product\n",
    "from math import sqrt\n",
    "\n",
    "import gurobipy as gp\n",
    "from gurobipy import GRB\n",
    "\n",
    "# Parameters\n",
    "costs_ij = [(220,190,235),(140,165,180),(160,190,225)]\n",
    "t_i = [160,160,160]\n",
    "d_j = [145,240,150]"
   ]
  },
  {
   "cell_type": "code",
   "execution_count": 5,
   "id": "11f0bb9b",
   "metadata": {},
   "outputs": [],
   "source": [
    "# Compute key parameters of MIP model formulation\n",
    "\n",
    "n = len(t_i)\n",
    "m = len(d_j)\n",
    "overtime = 40\n",
    "increasecost = 20"
   ]
  },
  {
   "cell_type": "code",
   "execution_count": 10,
   "id": "8364632e",
   "metadata": {},
   "outputs": [
    {
     "name": "stdout",
     "output_type": "stream",
     "text": [
      "Gurobi Optimizer version 10.0.1 build v10.0.1rc0 (mac64[rosetta2])\n",
      "\n",
      "CPU model: Apple M1\n",
      "Thread count: 8 physical cores, 8 logical processors, using up to 8 threads\n",
      "\n",
      "Optimize a model with 9 rows, 18 columns and 36 nonzeros\n",
      "Model fingerprint: 0x6d73a8c7\n",
      "Coefficient statistics:\n",
      "  Matrix range     [1e+00, 1e+00]\n",
      "  Objective range  [1e+02, 3e+02]\n",
      "  Bounds range     [0e+00, 0e+00]\n",
      "  RHS range        [4e+01, 2e+02]\n",
      "Presolve time: 0.01s\n",
      "Presolved: 9 rows, 18 columns, 36 nonzeros\n",
      "\n",
      "Iteration    Objective       Primal Inf.    Dual Inf.      Time\n",
      "       0    0.0000000e+00   5.350000e+02   0.000000e+00      0s\n",
      "       8    9.5650000e+04   0.000000e+00   0.000000e+00      0s\n",
      "\n",
      "Solved in 8 iterations and 0.01 seconds (0.00 work units)\n",
      "Optimal objective  9.565000000e+04\n",
      "\n",
      "    Variable            X \n",
      "-------------------------\n",
      "      x[0,1]          160 \n",
      "      x[1,1]           10 \n",
      "      x[1,2]          150 \n",
      "      x[2,0]          145 \n",
      "      x[2,1]           15 \n",
      "      z[0,1]           15 \n",
      "      z[1,1]           40 \n"
     ]
    }
   ],
   "source": [
    "# MIP  model formulation\n",
    "\n",
    "model = gp.Model('Modeling example 1')\n",
    "\n",
    "x = model.addVars(n, m, name = \"x\")\n",
    "z = model.addVars(n, m, name = \"z\")\n",
    "\n",
    "model.addConstrs(gp.quicksum(z[i,j] for j in range(m)) <= overtime for i in range (n))\n",
    "model.addConstrs(gp.quicksum(x[i,j] for j in range(m)) <= t_i[i] for i in range(n))\n",
    "model.addConstrs(gp.quicksum(x[i,j]+ z[i,j]for i in range(n)) >= d_j[j] for j in range(m))\n",
    "\n",
    "\n",
    "model.setObjective(gp.quicksum(costs_ij[i][j]* x[i, j]for i in range(n) for j in range(m)) + gp.quicksum((costs_ij[i][j]+20)* z[i, j] for i in range(n) for j in range(m)),GRB.MINIMIZE)\n",
    "model.optimize()\n",
    "\n",
    "model.printAttr(\"X\")"
   ]
  }
 ],
 "metadata": {
  "kernelspec": {
   "display_name": "Python 3 (ipykernel)",
   "language": "python",
   "name": "python3"
  },
  "language_info": {
   "codemirror_mode": {
    "name": "ipython",
    "version": 3
   },
   "file_extension": ".py",
   "mimetype": "text/x-python",
   "name": "python",
   "nbconvert_exporter": "python",
   "pygments_lexer": "ipython3",
   "version": "3.9.13"
  }
 },
 "nbformat": 4,
 "nbformat_minor": 5
}
