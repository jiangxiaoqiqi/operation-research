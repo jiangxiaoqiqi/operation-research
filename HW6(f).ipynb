{
 "cells": [
  {
   "cell_type": "code",
   "execution_count": null,
   "id": "b6e9ef6e",
   "metadata": {},
   "outputs": [],
   "source": [
    "import gurobipy as gp\n",
    "from gurobipy import GRB\n",
    "\n",
    "# Create a new model\n",
    "m = gp.Model(\"model1\")\n",
    "\n",
    "# Create variables\n",
    "x1 = m.addVar(lb=0,vtype=GRB.CONTINUOUS, name=\"x1\")\n",
    "x2 = m.addVar(lb=0,vtype=GRB.CONTINUOUS, name=\"x2\")\n",
    "\n",
    "# Set objective\n",
    "m.setObjective(-2*x1 -3*x2, GRB.MINIMIZE)\n",
    "\n",
    "m.addConstr(x1+2*x2<=6, \"c1\")\n",
    "\n",
    "m.addConstr(2*x1 +x2 <= 8, \"c2\")\n",
    "\n",
    "m.addConstr(x1 +x2 >= 1, \"c3\")\n",
    "\n",
    "# Optimize model\n",
    "m.optimize()\n",
    "\n",
    "for v in m.getVars():\n",
    "    print(v.VarName, v.X)\n",
    "    "
   ]
  }
 ],
 "metadata": {
  "kernelspec": {
   "display_name": "Python 3 (ipykernel)",
   "language": "python",
   "name": "python3"
  },
  "language_info": {
   "codemirror_mode": {
    "name": "ipython",
    "version": 3
   },
   "file_extension": ".py",
   "mimetype": "text/x-python",
   "name": "python",
   "nbconvert_exporter": "python",
   "pygments_lexer": "ipython3",
   "version": "3.9.13"
  }
 },
 "nbformat": 4,
 "nbformat_minor": 5
}
