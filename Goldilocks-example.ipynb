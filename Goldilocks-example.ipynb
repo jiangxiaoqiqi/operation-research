{
 "cells": [
  {
   "cell_type": "code",
   "execution_count": 3,
   "metadata": {},
   "outputs": [
    {
     "name": "stdout",
     "output_type": "stream",
     "text": [
      "Gurobi Optimizer version 10.0.0 build v10.0.0rc2 (win64)\n",
      "\n",
      "CPU model: Intel(R) Core(TM) i7-1065G7 CPU @ 1.30GHz, instruction set [SSE2|AVX|AVX2|AVX512]\n",
      "Thread count: 4 physical cores, 8 logical processors, using up to 8 threads\n",
      "\n",
      "Optimize a model with 2 rows, 2 columns and 4 nonzeros\n",
      "Model fingerprint: 0xcaa517e7\n",
      "Variable types: 0 continuous, 2 integer (0 binary)\n",
      "Coefficient statistics:\n",
      "  Matrix range     [1e+00, 3e+00]\n",
      "  Objective range  [1e+00, 1e+00]\n",
      "  Bounds range     [0e+00, 0e+00]\n",
      "  RHS range        [1e+01, 2e+01]\n",
      "Found heuristic solution: objective 12.0000000\n",
      "Presolve time: 0.00s\n",
      "Presolved: 2 rows, 2 columns, 4 nonzeros\n",
      "Variable types: 0 continuous, 2 integer (0 binary)\n",
      "\n",
      "Root relaxation: objective 8.400000e+00, 2 iterations, 0.00 seconds (0.00 work units)\n",
      "\n",
      "    Nodes    |    Current Node    |     Objective Bounds      |     Work\n",
      " Expl Unexpl |  Obj  Depth IntInf | Incumbent    BestBd   Gap | It/Node Time\n",
      "\n",
      "     0     0    8.40000    0    2   12.00000    8.40000  30.0%     -    0s\n",
      "H    0     0                       9.0000000    8.40000  6.67%     -    0s\n",
      "     0     0    8.40000    0    2    9.00000    8.40000  6.67%     -    0s\n",
      "\n",
      "Explored 1 nodes (2 simplex iterations) in 0.02 seconds (0.00 work units)\n",
      "Thread count was 8 (of 8 available processors)\n",
      "\n",
      "Solution count 2: 9 12 \n",
      "\n",
      "Optimal solution found (tolerance 1.00e-04)\n",
      "Best objective 9.000000000000e+00, best bound 9.000000000000e+00, gap 0.0000%\n",
      "x 4.0\n",
      "y 5.0\n"
     ]
    }
   ],
   "source": [
    "import gurobipy as gp\n",
    "from gurobipy import GRB\n",
    "\n",
    "# Create a new model\n",
    "m = gp.Model(\"model1\")\n",
    "\n",
    "# Create variables\n",
    "x = m.addVar(lb=0,vtype=GRB.INTEGER, name=\"x\")\n",
    "y = m.addVar(lb=0,vtype=GRB.INTEGER, name=\"y\")\n",
    "\n",
    "# Set objective\n",
    "m.setObjective(x + y, GRB.MINIMIZE)\n",
    "\n",
    "# Add constraint: 2x + y >= 12\n",
    "m.addConstr(2*x+y>=12, \"c1\")\n",
    "\n",
    "# Add constraint: x +3y =>18\n",
    "m.addConstr(x +3*y >= 18, \"c2\")\n",
    "\n",
    "# Optimize model\n",
    "m.optimize()\n",
    "\n",
    "m.write(\"GoldiLocks.lp\")\n",
    "\n",
    "for v in m.getVars():\n",
    "    print(v.VarName, v.X)\n",
    "\n",
    "#print('Obj:',m.ObjVal)\n"
   ]
  },
  {
   "cell_type": "code",
   "execution_count": null,
   "metadata": {},
   "outputs": [],
   "source": []
  },
  {
   "cell_type": "code",
   "execution_count": null,
   "metadata": {},
   "outputs": [],
   "source": []
  }
 ],
 "metadata": {
  "kernelspec": {
   "display_name": "Python 3",
   "language": "python",
   "name": "python3"
  },
  "language_info": {
   "codemirror_mode": {
    "name": "ipython",
    "version": 3
   },
   "file_extension": ".py",
   "mimetype": "text/x-python",
   "name": "python",
   "nbconvert_exporter": "python",
   "pygments_lexer": "ipython3",
   "version": "3.8.3"
  }
 },
 "nbformat": 4,
 "nbformat_minor": 4
}
