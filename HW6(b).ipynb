{
 "cells": [
  {
   "cell_type": "code",
   "execution_count": 3,
   "id": "029f1727",
   "metadata": {},
   "outputs": [
    {
     "name": "stdout",
     "output_type": "stream",
     "text": [
      "Gurobi Optimizer version 10.0.1 build v10.0.1rc0 (mac64[x86])\n",
      "\n",
      "CPU model: Intel(R) Core(TM) i5-3210M CPU @ 2.50GHz\n",
      "Thread count: 2 physical cores, 4 logical processors, using up to 4 threads\n",
      "\n",
      "Optimize a model with 2 rows, 2 columns and 4 nonzeros\n",
      "Model fingerprint: 0x78d562d9\n",
      "Coefficient statistics:\n",
      "  Matrix range     [1e+00, 2e+00]\n",
      "  Objective range  [2e+00, 3e+00]\n",
      "  Bounds range     [0e+00, 0e+00]\n",
      "  RHS range        [6e+00, 8e+00]\n",
      "Presolve time: 0.02s\n",
      "Presolved: 2 rows, 2 columns, 4 nonzeros\n",
      "\n",
      "Iteration    Objective       Primal Inf.    Dual Inf.      Time\n",
      "       0   -5.0000000e+30   3.000000e+30   5.000000e+00      0s\n",
      "       2   -1.0666667e+01   0.000000e+00   0.000000e+00      0s\n",
      "\n",
      "Solved in 2 iterations and 0.05 seconds (0.00 work units)\n",
      "Optimal objective -1.066666667e+01\n",
      "x1 3.3333333333333335\n",
      "x2 1.3333333333333333\n"
     ]
    }
   ],
   "source": [
    "import gurobipy as gp\n",
    "from gurobipy import GRB\n",
    "\n",
    "# Create a new model\n",
    "m = gp.Model(\"model1\")\n",
    "\n",
    "# Create variables\n",
    "x1 = m.addVar(lb=0,vtype=GRB.CONTINUOUS, name=\"x1\")\n",
    "x2 = m.addVar(lb=0,vtype=GRB.CONTINUOUS, name=\"x2\")\n",
    "\n",
    "# Set objective\n",
    "m.setObjective(-2*x1 -3*x2, GRB.MINIMIZE)\n",
    "\n",
    "m.addConstr(x1+2*x2<=6, \"c1\")\n",
    "\n",
    "m.addConstr(2*x1 +x2 <= 8, \"c2\")\n",
    "\n",
    "\n",
    "# Optimize model\n",
    "m.optimize()\n",
    "\n",
    "for v in m.getVars():\n",
    "    print(v.VarName, v.X)\n",
    "    "
   ]
  },
  {
   "cell_type": "code",
   "execution_count": null,
   "id": "60636c1f",
   "metadata": {},
   "outputs": [],
   "source": []
  }
 ],
 "metadata": {
  "kernelspec": {
   "display_name": "Python 3 (ipykernel)",
   "language": "python",
   "name": "python3"
  },
  "language_info": {
   "codemirror_mode": {
    "name": "ipython",
    "version": 3
   },
   "file_extension": ".py",
   "mimetype": "text/x-python",
   "name": "python",
   "nbconvert_exporter": "python",
   "pygments_lexer": "ipython3",
   "version": "3.9.13"
  }
 },
 "nbformat": 4,
 "nbformat_minor": 5
}
