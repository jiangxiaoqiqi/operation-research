{
 "cells": [
  {
   "cell_type": "code",
   "execution_count": 4,
   "metadata": {},
   "outputs": [
    {
     "name": "stdout",
     "output_type": "stream",
     "text": [
      "Restricted license - for non-production use only - expires 2024-10-28\n",
      "Gurobi Optimizer version 10.0.1 build v10.0.1rc0 (mac64[rosetta2])\n",
      "\n",
      "CPU model: Apple M1\n",
      "Thread count: 8 physical cores, 8 logical processors, using up to 8 threads\n",
      "\n",
      "Optimize a model with 2 rows, 3 columns and 6 nonzeros\n",
      "Model fingerprint: 0x2f8869ca\n",
      "Coefficient statistics:\n",
      "  Matrix range     [1e+00, 1e+01]\n",
      "  Objective range  [5e+00, 1e+01]\n",
      "  Bounds range     [0e+00, 0e+00]\n",
      "  RHS range        [2e+01, 9e+01]\n",
      "Presolve time: 0.01s\n",
      "Presolved: 2 rows, 3 columns, 6 nonzeros\n",
      "\n",
      "Iteration    Objective       Primal Inf.    Dual Inf.      Time\n",
      "       0   -8.2500000e+30   2.562500e+30   8.250000e+00      0s\n",
      "       1   -1.0000000e+02   0.000000e+00   0.000000e+00      0s\n",
      "\n",
      "Solved in 1 iterations and 0.02 seconds (0.00 work units)\n",
      "Optimal objective -1.000000000e+02\n",
      "x1 0.0\n",
      "x2 20.0\n",
      "x3 0.0\n"
     ]
    }
   ],
   "source": [
    "import gurobipy as gp\n",
    "from gurobipy import GRB\n",
    "# Create a new model\n",
    "m = gp.Model(\"model1\")\n",
    "# Create variables\n",
    "x1 = m.addVar(lb=0,vtype=GRB.CONTINUOUS, name=\"x1\")\n",
    "x2 = m.addVar(lb=0,vtype=GRB.CONTINUOUS, name=\"x2\")\n",
    "x3 = m.addVar(lb=0,vtype=GRB.CONTINUOUS, name=\"x3\")\n",
    "# Set objective\n",
    "m.setObjective(5*x1 -5*x2-13*x3, GRB.MINIMIZE)\n",
    "# Add constraints:\n",
    "m.addConstr(-x1+x2+3*x3<=20, \"c1\")\n",
    "m.addConstr(12*x1 +4*x2+10*x3 <= 90, \"c2\")\n",
    "# Optimize model\n",
    "m.optimize()\n",
    "for v in m.getVars():\n",
    "    print(v.VarName, v.X)"
   ]
  },
  {
   "cell_type": "code",
   "execution_count": null,
   "metadata": {},
   "outputs": [],
   "source": []
  },
  {
   "cell_type": "code",
   "execution_count": null,
   "metadata": {},
   "outputs": [],
   "source": []
  },
  {
   "cell_type": "code",
   "execution_count": null,
   "metadata": {},
   "outputs": [],
   "source": []
  },
  {
   "cell_type": "code",
   "execution_count": null,
   "metadata": {},
   "outputs": [],
   "source": []
  }
 ],
 "metadata": {
  "kernelspec": {
   "display_name": "Python 3 (ipykernel)",
   "language": "python",
   "name": "python3"
  },
  "language_info": {
   "codemirror_mode": {
    "name": "ipython",
    "version": 3
   },
   "file_extension": ".py",
   "mimetype": "text/x-python",
   "name": "python",
   "nbconvert_exporter": "python",
   "pygments_lexer": "ipython3",
   "version": "3.9.7"
  }
 },
 "nbformat": 4,
 "nbformat_minor": 4
}
