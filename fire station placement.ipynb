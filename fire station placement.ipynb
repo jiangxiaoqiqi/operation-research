{
 "cells": [
  {
   "cell_type": "code",
   "execution_count": 21,
   "id": "de682f00",
   "metadata": {},
   "outputs": [
    {
     "name": "stdout",
     "output_type": "stream",
     "text": [
      "1 : {1, 2, 3, 4}\n",
      "2 : {1, 2, 3, 5}\n",
      "3 : {1, 2, 3, 4, 5, 6}\n",
      "4 : {1, 3, 4, 6, 7}\n",
      "5 : {2, 3, 5, 6, 8, 9}\n",
      "6 : {3, 4, 5, 6, 7, 8, 9}\n",
      "7 : {8, 4, 6, 7}\n",
      "8 : {5, 6, 7, 8, 9, 10}\n",
      "9 : {5, 7, 8, 10, 11}\n",
      "10 : {5, 8, 9, 10, 11}\n",
      "11 : {9, 10, 11}\n"
     ]
    }
   ],
   "source": [
    "import gurobipy as gp\n",
    "from gurobipy import GRB\n",
    "\n",
    "sites, coverage = gp.multidict({\n",
    "    1: [{1,2,3,4}],\n",
    "    2: [{1,2,3,5}],\n",
    "    3: [{1,2,3,4,5,6}],\n",
    "    4: [{1,3,4,6,7}],\n",
    "    5: [{2,3,5,6,8,9}],\n",
    "    6: [{3,4,5,6,7,8,9}],\n",
    "    7: [{4,6,7,8}],\n",
    "    8: [{5,6,7,8,9,10}],\n",
    "    9: [{5,7,8,10,11}],\n",
    "    10:[{5,8,9,10,11}],\n",
    "    11:[{9,10,11}]  \n",
    "    \n",
    "})\n",
    "for i in sites:\n",
    "    print(i,\":\",coverage[i])"
   ]
  },
  {
   "cell_type": "code",
   "execution_count": 23,
   "id": "a0a9a7b6",
   "metadata": {},
   "outputs": [
    {
     "name": "stdout",
     "output_type": "stream",
     "text": [
      "Gurobi Optimizer version 10.0.1 build v10.0.1rc0 (mac64[rosetta2])\n",
      "\n",
      "CPU model: Apple M1\n",
      "Thread count: 8 physical cores, 8 logical processors, using up to 8 threads\n",
      "\n",
      "Optimize a model with 11 rows, 11 columns and 55 nonzeros\n",
      "Model fingerprint: 0x7d2a4ce2\n",
      "Variable types: 0 continuous, 11 integer (11 binary)\n",
      "Coefficient statistics:\n",
      "  Matrix range     [1e+00, 1e+00]\n",
      "  Objective range  [1e+00, 1e+00]\n",
      "  Bounds range     [1e+00, 1e+00]\n",
      "  RHS range        [1e+00, 1e+00]\n",
      "Found heuristic solution: objective 3.0000000\n",
      "Presolve removed 6 rows and 5 columns\n",
      "Presolve time: 0.00s\n",
      "Presolved: 5 rows, 6 columns, 12 nonzeros\n",
      "Variable types: 0 continuous, 6 integer (6 binary)\n",
      "\n",
      "Root relaxation: cutoff, 5 iterations, 0.00 seconds (0.00 work units)\n",
      "\n",
      "    Nodes    |    Current Node    |     Objective Bounds      |     Work\n",
      " Expl Unexpl |  Obj  Depth IntInf | Incumbent    BestBd   Gap | It/Node Time\n",
      "\n",
      "     0     0     cutoff    0         3.00000    3.00000  0.00%     -    0s\n",
      "\n",
      "Explored 1 nodes (5 simplex iterations) in 0.01 seconds (0.00 work units)\n",
      "Thread count was 8 (of 8 available processors)\n",
      "\n",
      "Solution count 1: 3 \n",
      "\n",
      "Optimal solution found (tolerance 1.00e-04)\n",
      "Best objective 3.000000000000e+00, best bound 3.000000000000e+00, gap 0.0000%\n",
      "1 : 0.0\n",
      "2 : 0.0\n",
      "3 : 0.0\n",
      "4 : 1.0\n",
      "5 : 1.0\n",
      "6 : 0.0\n",
      "7 : 0.0\n",
      "8 : 0.0\n",
      "9 : 0.0\n",
      "10 : 1.0\n",
      "11 : 0.0\n"
     ]
    }
   ],
   "source": [
    "m = gp.Model(\"fire_stations\")\n",
    "b = m.addVars(sites, vtype = GRB.BINARY, name = \"build\")\n",
    "m.addConstrs(((sum(b[i] for i in sites if r in coverage[i]) >= 1) for r in sites), \"coverage\")\n",
    "\n",
    "\n",
    "m. setObjective(sum(b[i] for i in sites), GRB.MINIMIZE)\n",
    "m.optimize()\n",
    "m.write(\"fire.lp\")\n",
    "for i in sites:\n",
    "    print(i,\":\",b[i].x)\n",
    "    "
   ]
  },
  {
   "cell_type": "code",
   "execution_count": null,
   "id": "0e8c4084",
   "metadata": {},
   "outputs": [],
   "source": []
  },
  {
   "cell_type": "code",
   "execution_count": null,
   "id": "a14292d8",
   "metadata": {},
   "outputs": [],
   "source": []
  },
  {
   "cell_type": "code",
   "execution_count": null,
   "id": "7be57951",
   "metadata": {},
   "outputs": [],
   "source": []
  },
  {
   "cell_type": "code",
   "execution_count": null,
   "id": "199ecb34",
   "metadata": {},
   "outputs": [],
   "source": []
  },
  {
   "cell_type": "code",
   "execution_count": null,
   "id": "e0286990",
   "metadata": {},
   "outputs": [],
   "source": []
  },
  {
   "cell_type": "code",
   "execution_count": null,
   "id": "8069db1c",
   "metadata": {},
   "outputs": [],
   "source": []
  },
  {
   "cell_type": "code",
   "execution_count": null,
   "id": "6d69e69e",
   "metadata": {},
   "outputs": [],
   "source": []
  },
  {
   "cell_type": "code",
   "execution_count": null,
   "id": "3abbe1f9",
   "metadata": {},
   "outputs": [],
   "source": []
  },
  {
   "cell_type": "code",
   "execution_count": null,
   "id": "1626887e",
   "metadata": {},
   "outputs": [],
   "source": []
  },
  {
   "cell_type": "code",
   "execution_count": null,
   "id": "af0f9012",
   "metadata": {},
   "outputs": [],
   "source": []
  },
  {
   "cell_type": "code",
   "execution_count": null,
   "id": "ac83df06",
   "metadata": {},
   "outputs": [],
   "source": []
  },
  {
   "cell_type": "code",
   "execution_count": null,
   "id": "bcaedad1",
   "metadata": {},
   "outputs": [],
   "source": []
  },
  {
   "cell_type": "code",
   "execution_count": null,
   "id": "a7154994",
   "metadata": {},
   "outputs": [],
   "source": []
  },
  {
   "cell_type": "code",
   "execution_count": null,
   "id": "428002e6",
   "metadata": {},
   "outputs": [],
   "source": []
  },
  {
   "cell_type": "code",
   "execution_count": null,
   "id": "5e3bb956",
   "metadata": {},
   "outputs": [],
   "source": []
  }
 ],
 "metadata": {
  "kernelspec": {
   "display_name": "Python 3 (ipykernel)",
   "language": "python",
   "name": "python3"
  },
  "language_info": {
   "codemirror_mode": {
    "name": "ipython",
    "version": 3
   },
   "file_extension": ".py",
   "mimetype": "text/x-python",
   "name": "python",
   "nbconvert_exporter": "python",
   "pygments_lexer": "ipython3",
   "version": "3.9.7"
  }
 },
 "nbformat": 4,
 "nbformat_minor": 5
}
